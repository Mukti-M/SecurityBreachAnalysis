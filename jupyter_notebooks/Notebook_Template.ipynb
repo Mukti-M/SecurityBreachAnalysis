{
  "cells": [
    {
      "cell_type": "markdown",
      "metadata": {
        "id": "0aStgWSO0E0E"
      },
      "source": [
        "# **Security Breach Analysis**"
      ]
    },
    {
      "cell_type": "markdown",
      "metadata": {
        "id": "1eLEkw5O0ECa"
      },
      "source": [
        "## Objectives\n",
        "\n",
        "* Write your notebook objective here, for example, \"Fetch data from Kaggle and save as raw data\", or \"engineer features for modelling\"\n",
        "\n",
        "## Inputs\n",
        "\n",
        "Write down which data or information you need to run the notebook \n",
        "Dataset Summary\n",
        "Total Rows: 40,000\n",
        "Columns: 25\n",
        "Missing Data:\n",
        "Malware Indicators, Alerts/Warnings, Proxy Information, Firewall Logs, and IDS/IPS Alerts have missing values.\n",
        "Issues Identified:\n",
        "Timestamp format needs conversion.\n",
        "Attack Type standardization (case normalization).\n",
        "Missing values need handling.\n",
        "Duplicate entries should be removed.\n",
        "\n",
        "\n",
        "## Outputs\n",
        "\n",
        "* Write here which files, code or artefacts you generate by the end of the notebook \n",
        "\n",
        "## Additional Comments\n",
        "\n",
        "* If you have any additional comments that don't fit in the previous bullets, please state them here. \n",
        "\n"
      ]
    },
    {
      "cell_type": "markdown",
      "metadata": {
        "id": "9uWZXH9LwoQg"
      },
      "source": [
        "---"
      ]
    },
    {
      "cell_type": "markdown",
      "metadata": {
        "id": "cqP-UeN-z3i2"
      },
      "source": [
        "# Change working directory"
      ]
    },
    {
      "cell_type": "markdown",
      "metadata": {},
      "source": [
        "* We are assuming you will store the notebooks in a subfolder, therefore when running the notebook in the editor, you will need to change the working directory"
      ]
    },
    {
      "cell_type": "markdown",
      "metadata": {
        "id": "aOGIGS-uz3i2"
      },
      "source": [
        "We need to change the working directory from its current folder to its parent folder\n",
        "* We access the current directory with os.getcwd()"
      ]
    },
    {
      "cell_type": "code",
      "execution_count": 6,
      "metadata": {
        "id": "wZfF_j-Bz3i4",
        "outputId": "66943449-1436-4c3d-85c7-b85f9f78349b"
      },
      "outputs": [
        {
          "data": {
            "text/plain": [
              "'c:\\\\Users\\\\mukti\\\\Desktop\\\\codeInstitute\\\\SecurityBreachAnalysis\\\\SecurityBreachAnalysis'"
            ]
          },
          "execution_count": 6,
          "metadata": {},
          "output_type": "execute_result"
        }
      ],
      "source": [
        "import os\n",
        "current_dir = os.getcwd()\n",
        "current_dir"
      ]
    },
    {
      "cell_type": "markdown",
      "metadata": {
        "id": "9MWW8E7lz3i7"
      },
      "source": [
        "We want to make the parent of the current directory the new current directory\n",
        "* os.path.dirname() gets the parent directory\n",
        "* os.chir() defines the new current directory"
      ]
    },
    {
      "cell_type": "code",
      "execution_count": 7,
      "metadata": {
        "id": "TwHsQRWjz3i9",
        "outputId": "86849db3-cd2f-4cc5-ebb8-2d0caafa1a2c"
      },
      "outputs": [
        {
          "name": "stdout",
          "output_type": "stream",
          "text": [
            "You set a new current directory\n"
          ]
        }
      ],
      "source": [
        "os.chdir(os.path.dirname(current_dir))\n",
        "print(\"You set a new current directory\")"
      ]
    },
    {
      "cell_type": "markdown",
      "metadata": {
        "id": "M_xPk_Ijz3i-"
      },
      "source": [
        "Confirm the new current directory"
      ]
    },
    {
      "cell_type": "code",
      "execution_count": 8,
      "metadata": {
        "id": "vz3S-_kjz3jA",
        "outputId": "00b79ae4-75d0-4a96-d193-ac9ef9847ea2"
      },
      "outputs": [
        {
          "data": {
            "text/plain": [
              "'c:\\\\Users\\\\mukti\\\\Desktop\\\\codeInstitute\\\\SecurityBreachAnalysis'"
            ]
          },
          "execution_count": 8,
          "metadata": {},
          "output_type": "execute_result"
        }
      ],
      "source": [
        "current_dir = os.getcwd()\n",
        "current_dir"
      ]
    },
    {
      "cell_type": "markdown",
      "metadata": {
        "id": "-mavJ8DibrcQ"
      },
      "source": [
        "# Section 1"
      ]
    },
    {
      "cell_type": "markdown",
      "metadata": {},
      "source": [
        "# Section 1 ETL pipeline for Security Breach Analysis"
      ]
    },
    {
      "cell_type": "code",
      "execution_count": 9,
      "metadata": {},
      "outputs": [
        {
          "name": "stdout",
          "output_type": "stream",
          "text": [
            "✅ Data cleaning & transformation complete! Cleaned file saved as: cleaned_cybersecurity_attacks.csv\n"
          ]
        }
      ],
      "source": [
        "import pandas as pd  # library for data manipulation\n",
        "import numpy as np   # library for numerical operations\n",
        "\n",
        "def clean_and_transform_data(input_file, output_file):  # function to clean and transform the data\n",
        "    \"\"\"\n",
        "    Cleans and transforms the cybersecurity attack dataset.\n",
        "\n",
        "    :param input_file: Path to the raw CSV file\n",
        "    :param output_file: Path to save the cleaned and transformed CSV file\n",
        "    \"\"\"\n",
        "    try:\n",
        "        # Load the dataset\n",
        "        df = pd.read_csv(input_file)\n",
        "\n",
        "        # Convert Timestamp column to datetime format\n",
        "        df['Timestamp'] = pd.to_datetime(df['Timestamp'], errors='coerce')\n",
        "\n",
        "        # Extract Date and Hour for time-based analysis\n",
        "        df['Date'] = df['Timestamp'].dt.date\n",
        "        df['Hour'] = df['Timestamp'].dt.hour\n",
        "\n",
        "        # Standardize Attack Type (convert to lowercase)\n",
        "        df['Attack Type'] = df['Attack Type'].str.lower().str.strip()\n",
        "\n",
        "        # Handle missing values: Fill with \"Unknown\" for categorical columns\n",
        "        columns_to_fill = ['Malware Indicators', 'Alerts/Warnings', 'Proxy Information', 'Firewall Logs', 'IDS/IPS Alerts']\n",
        "        df[columns_to_fill] = df[columns_to_fill].fillna(\"Unknown\")\n",
        "\n",
        "        # Categorize Severity Level based on Attack Type (example logic)\n",
        "        severity_mapping = {\n",
        "            \"ddos\": \"High\",\n",
        "            \"ransomware\": \"High\",\n",
        "            \"phishing\": \"Medium\",\n",
        "            \"malware\": \"High\",\n",
        "            \"brute force\": \"Medium\",\n",
        "            \"sql injection\": \"Medium\",\n",
        "            \"xss\": \"Low\"\n",
        "        }\n",
        "        df['Severity Category'] = df['Attack Type'].map(severity_mapping).fillna(\"Unknown\")\n",
        "\n",
        "        # Drop duplicate rows if any exist\n",
        "        df.drop_duplicates(inplace=True)\n",
        "\n",
        "        # Save the cleaned and transformed dataset\n",
        "        df.to_csv(output_file, index=False)\n",
        "\n",
        "        # Print message upon successful completion\n",
        "        print(f\"✅ Data cleaning & transformation complete! Cleaned file saved as: {output_file}\") \n",
        "\n",
        "    except Exception as e:\n",
        "        print(f\"❌ Error during processing: {e}\")\n",
        "\n",
        "# Define file paths\n",
        "input_csv = \"cybersecurity_attacks.csv\"           # raw dataset\n",
        "output_csv = \"cleaned_cybersecurity_attacks.csv\"  # cleaned and transformed dataset\n",
        "\n",
        "# Run the cleaning function\n",
        "clean_and_transform_data(input_csv, output_csv)"
      ]
    },
    {
      "cell_type": "markdown",
      "metadata": {
        "id": "ZY3l0-AxO93d"
      },
      "source": [
        "---"
      ]
    },
    {
      "cell_type": "markdown",
      "metadata": {
        "id": "uFQo3ycuO-v6"
      },
      "source": [
        "# Analysing and Visulaisation of Security Breach Analysis"
      ]
    },
    {
      "cell_type": "markdown",
      "metadata": {},
      "source": [
        "Section 2 content"
      ]
    },
    {
      "cell_type": "code",
      "execution_count": 10,
      "metadata": {},
      "outputs": [],
      "source": [
        "import pandas as pd\n",
        "import plotly.express as px\n",
        "import plotly.io as pio\n",
        "import seaborn as sns\n",
        "import matplotlib.pyplot as plt\n",
        "\n",
        "# Enable plotly rendering in Jupyter\n",
        "pio.renderers.default = \"notebook\"\n"
      ]
    },
    {
      "cell_type": "code",
      "execution_count": 11,
      "metadata": {},
      "outputs": [
        {
          "data": {
            "text/html": [
              "<div>\n",
              "<style scoped>\n",
              "    .dataframe tbody tr th:only-of-type {\n",
              "        vertical-align: middle;\n",
              "    }\n",
              "\n",
              "    .dataframe tbody tr th {\n",
              "        vertical-align: top;\n",
              "    }\n",
              "\n",
              "    .dataframe thead th {\n",
              "        text-align: right;\n",
              "    }\n",
              "</style>\n",
              "<table border=\"1\" class=\"dataframe\">\n",
              "  <thead>\n",
              "    <tr style=\"text-align: right;\">\n",
              "      <th></th>\n",
              "      <th>Timestamp</th>\n",
              "      <th>Source IP Address</th>\n",
              "      <th>Destination IP Address</th>\n",
              "      <th>Source Port</th>\n",
              "      <th>Destination Port</th>\n",
              "      <th>Protocol</th>\n",
              "      <th>Packet Length</th>\n",
              "      <th>Packet Type</th>\n",
              "      <th>Traffic Type</th>\n",
              "      <th>Payload Data</th>\n",
              "      <th>...</th>\n",
              "      <th>Network Segment</th>\n",
              "      <th>Geo-location Data</th>\n",
              "      <th>Proxy Information</th>\n",
              "      <th>Firewall Logs</th>\n",
              "      <th>IDS/IPS Alerts</th>\n",
              "      <th>Log Source</th>\n",
              "      <th>Date</th>\n",
              "      <th>Hour</th>\n",
              "      <th>Severity Category</th>\n",
              "      <th>Month</th>\n",
              "    </tr>\n",
              "  </thead>\n",
              "  <tbody>\n",
              "    <tr>\n",
              "      <th>0</th>\n",
              "      <td>2023-05-30 06:33:58</td>\n",
              "      <td>103.216.15.12</td>\n",
              "      <td>84.9.164.252</td>\n",
              "      <td>31225</td>\n",
              "      <td>17616</td>\n",
              "      <td>ICMP</td>\n",
              "      <td>503</td>\n",
              "      <td>Data</td>\n",
              "      <td>HTTP</td>\n",
              "      <td>Qui natus odio asperiores nam. Optio nobis ius...</td>\n",
              "      <td>...</td>\n",
              "      <td>Segment A</td>\n",
              "      <td>Jamshedpur, Sikkim</td>\n",
              "      <td>150.9.97.135</td>\n",
              "      <td>Log Data</td>\n",
              "      <td>Unknown</td>\n",
              "      <td>Server</td>\n",
              "      <td>2023-05-30</td>\n",
              "      <td>6</td>\n",
              "      <td>High</td>\n",
              "      <td>2023-05</td>\n",
              "    </tr>\n",
              "    <tr>\n",
              "      <th>1</th>\n",
              "      <td>2020-08-26 07:08:30</td>\n",
              "      <td>78.199.217.198</td>\n",
              "      <td>66.191.137.154</td>\n",
              "      <td>17245</td>\n",
              "      <td>48166</td>\n",
              "      <td>ICMP</td>\n",
              "      <td>1174</td>\n",
              "      <td>Data</td>\n",
              "      <td>HTTP</td>\n",
              "      <td>Aperiam quos modi officiis veritatis rem. Omni...</td>\n",
              "      <td>...</td>\n",
              "      <td>Segment B</td>\n",
              "      <td>Bilaspur, Nagaland</td>\n",
              "      <td>Unknown</td>\n",
              "      <td>Log Data</td>\n",
              "      <td>Unknown</td>\n",
              "      <td>Firewall</td>\n",
              "      <td>2020-08-26</td>\n",
              "      <td>7</td>\n",
              "      <td>High</td>\n",
              "      <td>2020-08</td>\n",
              "    </tr>\n",
              "    <tr>\n",
              "      <th>2</th>\n",
              "      <td>2022-11-13 08:23:25</td>\n",
              "      <td>63.79.210.48</td>\n",
              "      <td>198.219.82.17</td>\n",
              "      <td>16811</td>\n",
              "      <td>53600</td>\n",
              "      <td>UDP</td>\n",
              "      <td>306</td>\n",
              "      <td>Control</td>\n",
              "      <td>HTTP</td>\n",
              "      <td>Perferendis sapiente vitae soluta. Hic delectu...</td>\n",
              "      <td>...</td>\n",
              "      <td>Segment C</td>\n",
              "      <td>Bokaro, Rajasthan</td>\n",
              "      <td>114.133.48.179</td>\n",
              "      <td>Log Data</td>\n",
              "      <td>Alert Data</td>\n",
              "      <td>Firewall</td>\n",
              "      <td>2022-11-13</td>\n",
              "      <td>8</td>\n",
              "      <td>High</td>\n",
              "      <td>2022-11</td>\n",
              "    </tr>\n",
              "    <tr>\n",
              "      <th>3</th>\n",
              "      <td>2023-07-02 10:38:46</td>\n",
              "      <td>163.42.196.10</td>\n",
              "      <td>101.228.192.255</td>\n",
              "      <td>20018</td>\n",
              "      <td>32534</td>\n",
              "      <td>UDP</td>\n",
              "      <td>385</td>\n",
              "      <td>Data</td>\n",
              "      <td>HTTP</td>\n",
              "      <td>Totam maxime beatae expedita explicabo porro l...</td>\n",
              "      <td>...</td>\n",
              "      <td>Segment B</td>\n",
              "      <td>Jaunpur, Rajasthan</td>\n",
              "      <td>Unknown</td>\n",
              "      <td>Unknown</td>\n",
              "      <td>Alert Data</td>\n",
              "      <td>Firewall</td>\n",
              "      <td>2023-07-02</td>\n",
              "      <td>10</td>\n",
              "      <td>High</td>\n",
              "      <td>2023-07</td>\n",
              "    </tr>\n",
              "    <tr>\n",
              "      <th>4</th>\n",
              "      <td>2023-07-16 13:11:07</td>\n",
              "      <td>71.166.185.76</td>\n",
              "      <td>189.243.174.238</td>\n",
              "      <td>6131</td>\n",
              "      <td>26646</td>\n",
              "      <td>TCP</td>\n",
              "      <td>1462</td>\n",
              "      <td>Data</td>\n",
              "      <td>DNS</td>\n",
              "      <td>Odit nesciunt dolorem nisi iste iusto. Animi v...</td>\n",
              "      <td>...</td>\n",
              "      <td>Segment C</td>\n",
              "      <td>Anantapur, Tripura</td>\n",
              "      <td>149.6.110.119</td>\n",
              "      <td>Unknown</td>\n",
              "      <td>Alert Data</td>\n",
              "      <td>Firewall</td>\n",
              "      <td>2023-07-16</td>\n",
              "      <td>13</td>\n",
              "      <td>High</td>\n",
              "      <td>2023-07</td>\n",
              "    </tr>\n",
              "  </tbody>\n",
              "</table>\n",
              "<p>5 rows × 29 columns</p>\n",
              "</div>"
            ],
            "text/plain": [
              "            Timestamp Source IP Address Destination IP Address  Source Port  \\\n",
              "0 2023-05-30 06:33:58     103.216.15.12           84.9.164.252        31225   \n",
              "1 2020-08-26 07:08:30    78.199.217.198         66.191.137.154        17245   \n",
              "2 2022-11-13 08:23:25      63.79.210.48          198.219.82.17        16811   \n",
              "3 2023-07-02 10:38:46     163.42.196.10        101.228.192.255        20018   \n",
              "4 2023-07-16 13:11:07     71.166.185.76        189.243.174.238         6131   \n",
              "\n",
              "   Destination Port Protocol  Packet Length Packet Type Traffic Type  \\\n",
              "0             17616     ICMP            503        Data         HTTP   \n",
              "1             48166     ICMP           1174        Data         HTTP   \n",
              "2             53600      UDP            306     Control         HTTP   \n",
              "3             32534      UDP            385        Data         HTTP   \n",
              "4             26646      TCP           1462        Data          DNS   \n",
              "\n",
              "                                        Payload Data  ... Network Segment  \\\n",
              "0  Qui natus odio asperiores nam. Optio nobis ius...  ...       Segment A   \n",
              "1  Aperiam quos modi officiis veritatis rem. Omni...  ...       Segment B   \n",
              "2  Perferendis sapiente vitae soluta. Hic delectu...  ...       Segment C   \n",
              "3  Totam maxime beatae expedita explicabo porro l...  ...       Segment B   \n",
              "4  Odit nesciunt dolorem nisi iste iusto. Animi v...  ...       Segment C   \n",
              "\n",
              "    Geo-location Data Proxy Information Firewall Logs IDS/IPS Alerts  \\\n",
              "0  Jamshedpur, Sikkim      150.9.97.135      Log Data        Unknown   \n",
              "1  Bilaspur, Nagaland           Unknown      Log Data        Unknown   \n",
              "2   Bokaro, Rajasthan    114.133.48.179      Log Data     Alert Data   \n",
              "3  Jaunpur, Rajasthan           Unknown       Unknown     Alert Data   \n",
              "4  Anantapur, Tripura     149.6.110.119       Unknown     Alert Data   \n",
              "\n",
              "  Log Source        Date Hour Severity Category    Month  \n",
              "0     Server  2023-05-30    6              High  2023-05  \n",
              "1   Firewall  2020-08-26    7              High  2020-08  \n",
              "2   Firewall  2022-11-13    8              High  2022-11  \n",
              "3   Firewall  2023-07-02   10              High  2023-07  \n",
              "4   Firewall  2023-07-16   13              High  2023-07  \n",
              "\n",
              "[5 rows x 29 columns]"
            ]
          },
          "execution_count": 11,
          "metadata": {},
          "output_type": "execute_result"
        }
      ],
      "source": [
        "# Load dataset\n",
        "input_csv = \"cleaned_cybersecurity_attacks.csv\"  # cleaned dataset\n",
        "df = pd.read_csv(input_csv) \n",
        "\n",
        "# Convert Timestamp to datetime\n",
        "df['Timestamp'] = pd.to_datetime(df['Timestamp'], errors='coerce')\n",
        "\n",
        "# Extract Date and Month\n",
        "df['Date'] = df['Timestamp'].dt.date\n",
        "df['Month'] = df['Timestamp'].dt.to_period(\"M\")\n",
        "\n",
        "# Display first few rows to verify\n",
        "df.head()"
      ]
    },
    {
      "cell_type": "code",
      "execution_count": 16,
      "metadata": {},
      "outputs": [
        {
          "ename": "ValueError",
          "evalue": "Mime type rendering requires nbformat>=4.2.0 but it is not installed",
          "output_type": "error",
          "traceback": [
            "\u001b[31m---------------------------------------------------------------------------\u001b[39m",
            "\u001b[31mValueError\u001b[39m                                Traceback (most recent call last)",
            "\u001b[36mCell\u001b[39m\u001b[36m \u001b[39m\u001b[32mIn[16]\u001b[39m\u001b[32m, line 47\u001b[39m\n\u001b[32m     44\u001b[39m     fig.show()\n\u001b[32m     46\u001b[39m \u001b[38;5;66;03m# Call functions\u001b[39;00m\n\u001b[32m---> \u001b[39m\u001b[32m47\u001b[39m \u001b[43mplot_attack_type_distribution\u001b[49m\u001b[43m(\u001b[49m\u001b[43mdf\u001b[49m\u001b[43m)\u001b[49m\n\u001b[32m     48\u001b[39m plot_severity_level_distribution(df)\n\u001b[32m     49\u001b[39m plot_traffic_type_distribution(df)\n",
            "\u001b[36mCell\u001b[39m\u001b[36m \u001b[39m\u001b[32mIn[16]\u001b[39m\u001b[32m, line 14\u001b[39m, in \u001b[36mplot_attack_type_distribution\u001b[39m\u001b[34m(df)\u001b[39m\n\u001b[32m     10\u001b[39m attack_counts.columns = [\u001b[33m'\u001b[39m\u001b[33mAttack Type\u001b[39m\u001b[33m'\u001b[39m, \u001b[33m'\u001b[39m\u001b[33mCount\u001b[39m\u001b[33m'\u001b[39m]\n\u001b[32m     11\u001b[39m fig = px.bar(attack_counts, x=\u001b[33m'\u001b[39m\u001b[33mAttack Type\u001b[39m\u001b[33m'\u001b[39m, y=\u001b[33m'\u001b[39m\u001b[33mCount\u001b[39m\u001b[33m'\u001b[39m,\n\u001b[32m     12\u001b[39m              labels={\u001b[33m'\u001b[39m\u001b[33mAttack Type\u001b[39m\u001b[33m'\u001b[39m: \u001b[33m'\u001b[39m\u001b[33mAttack Type\u001b[39m\u001b[33m'\u001b[39m, \u001b[33m'\u001b[39m\u001b[33mCount\u001b[39m\u001b[33m'\u001b[39m: \u001b[33m'\u001b[39m\u001b[33mCount\u001b[39m\u001b[33m'\u001b[39m},\n\u001b[32m     13\u001b[39m              title=\u001b[33m'\u001b[39m\u001b[33mAttack Type Distribution\u001b[39m\u001b[33m'\u001b[39m, color=\u001b[33m'\u001b[39m\u001b[33mAttack Type\u001b[39m\u001b[33m'\u001b[39m)\n\u001b[32m---> \u001b[39m\u001b[32m14\u001b[39m \u001b[43mfig\u001b[49m\u001b[43m.\u001b[49m\u001b[43mshow\u001b[49m\u001b[43m(\u001b[49m\u001b[43m)\u001b[49m\n",
            "\u001b[36mFile \u001b[39m\u001b[32mc:\\Users\\mukti\\Desktop\\codeInstitute\\SecurityBreachAnalysis\\.venv\\Lib\\site-packages\\plotly\\basedatatypes.py:3412\u001b[39m, in \u001b[36mBaseFigure.show\u001b[39m\u001b[34m(self, *args, **kwargs)\u001b[39m\n\u001b[32m   3379\u001b[39m \u001b[38;5;250m\u001b[39m\u001b[33;03m\"\"\"\u001b[39;00m\n\u001b[32m   3380\u001b[39m \u001b[33;03mShow a figure using either the default renderer(s) or the renderer(s)\u001b[39;00m\n\u001b[32m   3381\u001b[39m \u001b[33;03mspecified by the renderer argument\u001b[39;00m\n\u001b[32m   (...)\u001b[39m\u001b[32m   3408\u001b[39m \u001b[33;03mNone\u001b[39;00m\n\u001b[32m   3409\u001b[39m \u001b[33;03m\"\"\"\u001b[39;00m\n\u001b[32m   3410\u001b[39m \u001b[38;5;28;01mimport\u001b[39;00m\u001b[38;5;250m \u001b[39m\u001b[34;01mplotly\u001b[39;00m\u001b[34;01m.\u001b[39;00m\u001b[34;01mio\u001b[39;00m\u001b[38;5;250m \u001b[39m\u001b[38;5;28;01mas\u001b[39;00m\u001b[38;5;250m \u001b[39m\u001b[34;01mpio\u001b[39;00m\n\u001b[32m-> \u001b[39m\u001b[32m3412\u001b[39m \u001b[38;5;28;01mreturn\u001b[39;00m \u001b[43mpio\u001b[49m\u001b[43m.\u001b[49m\u001b[43mshow\u001b[49m\u001b[43m(\u001b[49m\u001b[38;5;28;43mself\u001b[39;49m\u001b[43m,\u001b[49m\u001b[43m \u001b[49m\u001b[43m*\u001b[49m\u001b[43margs\u001b[49m\u001b[43m,\u001b[49m\u001b[43m \u001b[49m\u001b[43m*\u001b[49m\u001b[43m*\u001b[49m\u001b[43mkwargs\u001b[49m\u001b[43m)\u001b[49m\n",
            "\u001b[36mFile \u001b[39m\u001b[32mc:\\Users\\mukti\\Desktop\\codeInstitute\\SecurityBreachAnalysis\\.venv\\Lib\\site-packages\\plotly\\io\\_renderers.py:396\u001b[39m, in \u001b[36mshow\u001b[39m\u001b[34m(fig, renderer, validate, **kwargs)\u001b[39m\n\u001b[32m    391\u001b[39m         \u001b[38;5;28;01mraise\u001b[39;00m \u001b[38;5;167;01mValueError\u001b[39;00m(\n\u001b[32m    392\u001b[39m             \u001b[33m\"\u001b[39m\u001b[33mMime type rendering requires ipython but it is not installed\u001b[39m\u001b[33m\"\u001b[39m\n\u001b[32m    393\u001b[39m         )\n\u001b[32m    395\u001b[39m     \u001b[38;5;28;01mif\u001b[39;00m \u001b[38;5;129;01mnot\u001b[39;00m nbformat \u001b[38;5;129;01mor\u001b[39;00m Version(nbformat.__version__) < Version(\u001b[33m\"\u001b[39m\u001b[33m4.2.0\u001b[39m\u001b[33m\"\u001b[39m):\n\u001b[32m--> \u001b[39m\u001b[32m396\u001b[39m         \u001b[38;5;28;01mraise\u001b[39;00m \u001b[38;5;167;01mValueError\u001b[39;00m(\n\u001b[32m    397\u001b[39m             \u001b[33m\"\u001b[39m\u001b[33mMime type rendering requires nbformat>=4.2.0 but it is not installed\u001b[39m\u001b[33m\"\u001b[39m\n\u001b[32m    398\u001b[39m         )\n\u001b[32m    400\u001b[39m     ipython_display.display(bundle, raw=\u001b[38;5;28;01mTrue\u001b[39;00m)\n\u001b[32m    402\u001b[39m \u001b[38;5;66;03m# external renderers\u001b[39;00m\n",
            "\u001b[31mValueError\u001b[39m: Mime type rendering requires nbformat>=4.2.0 but it is not installed"
          ]
        }
      ],
      "source": [
        "import pandas as pd\n",
        "import plotly.express as px\n",
        "import plotly.graph_objects as go\n",
        "\n",
        "# Load dataset\n",
        "df = pd.read_csv(\"cleaned_cybersecurity_attacks.csv\")\n",
        "\n",
        "def plot_attack_type_distribution(df):\n",
        "    attack_counts = df['Attack Type'].value_counts().reset_index()\n",
        "    attack_counts.columns = ['Attack Type', 'Count']\n",
        "    fig = px.bar(attack_counts, x='Attack Type', y='Count',\n",
        "                 labels={'Attack Type': 'Attack Type', 'Count': 'Count'},\n",
        "                 title='Attack Type Distribution', color='Attack Type')\n",
        "    fig.show()\n",
        "\n",
        "def plot_severity_level_distribution(df):\n",
        "    fig = px.pie(df, names='Severity Level', title='Severity Level Distribution')\n",
        "    fig.show()\n",
        "\n",
        "def plot_traffic_type_distribution(df):\n",
        "    traffic_counts = df['Traffic Type'].value_counts().reset_index()\n",
        "    traffic_counts.columns = ['Traffic Type', 'Count']\n",
        "    fig = px.bar(traffic_counts, x='Traffic Type', y='Count',\n",
        "                 labels={'Traffic Type': 'Traffic Type', 'Count': 'Count'},\n",
        "                 title='Traffic Type Distribution', color='Traffic Type')\n",
        "    fig.show()\n",
        "\n",
        "def plot_anomaly_score_distribution(df):\n",
        "    fig = px.histogram(df, x='Anomaly Scores', nbins=50, title='Anomaly Score Distribution')\n",
        "    fig.show()\n",
        "\n",
        "def plot_attacks_over_time(df):\n",
        "    df['Date'] = pd.to_datetime(df['Date'])\n",
        "    attack_counts = df.groupby('Date').size().reset_index(name='Count')\n",
        "    fig = px.line(attack_counts, x='Date', y='Count', title='Attacks Over Time')\n",
        "    fig.show()\n",
        "\n",
        "def plot_top_source_ips(df, top_n=10):\n",
        "    top_ips = df['Source IP Address'].value_counts().nlargest(top_n).reset_index()\n",
        "    top_ips.columns = ['Source IP Address', 'Count']\n",
        "    fig = px.bar(top_ips, x='Source IP Address', y='Count',\n",
        "                 labels={'Source IP Address': 'Source IP Address', 'Count': 'Count'},\n",
        "                 title=f'Top {top_n} Source IP Addresses', color='Source IP Address')\n",
        "    fig.show()\n",
        "\n",
        "# Call functions\n",
        "plot_attack_type_distribution(df)\n",
        "plot_severity_level_distribution(df)\n",
        "plot_traffic_type_distribution(df)\n",
        "plot_anomaly_score_distribution(df)\n",
        "plot_attacks_over_time(df)\n",
        "plot_top_source_ips(df)\n",
        "\n"
      ]
    },
    {
      "cell_type": "code",
      "execution_count": 13,
      "metadata": {},
      "outputs": [
        {
          "name": "stdout",
          "output_type": "stream",
          "text": [
            "⚠️ Latitude and Longitude columns not found in dataset.\n"
          ]
        }
      ],
      "source": [
        "# Check if Latitude and Longitude exist before plotting\n",
        "if \"Latitude\" in df.columns and \"Longitude\" in df.columns:\n",
        "    fig2 = px.scatter_geo(df, lat=\"Latitude\", lon=\"Longitude\", hover_name=\"Attack Type\",\n",
        "                          title=\"Cyber Attacks by Region\", color_discrete_sequence=[\"red\"], opacity=0.7)\n",
        "    fig2.show()\n",
        "else:\n",
        "    print(\"⚠️ Latitude and Longitude columns not found in dataset.\")"
      ]
    },
    {
      "cell_type": "code",
      "execution_count": 14,
      "metadata": {},
      "outputs": [
        {
          "data": {
            "image/png": "[encoded data removed]",
            "text/plain": [
              "<Figure size 1000x600 with 2 Axes>"
            ]
          },
          "metadata": {},
          "output_type": "display_data"
        }
      ],
      "source": [
        "# Check if Severity Level and Attack Type exist\n",
        "if \"Severity Level\" in df.columns and \"Attack Type\" in df.columns:\n",
        "    pivot_table = df.pivot_table(index=\"Attack Type\", columns=\"Severity Level\", aggfunc=\"size\", fill_value=0)\n",
        "\n",
        "    # Enable inline plots for Jupyter Notebook\n",
        "    %matplotlib inline\n",
        "\n",
        "    plt.figure(figsize=(10, 6))\n",
        "    sns.heatmap(pivot_table, cmap=\"Reds\", annot=True, fmt=\"d\", linewidths=0.5)\n",
        "    plt.title(\"Attack Severity Heatmap\")\n",
        "    plt.xlabel(\"Severity Level\")\n",
        "    plt.ylabel(\"Attack Type\")\n",
        "    plt.show()\n",
        "else:\n",
        "    print(\"⚠️ Severity Level or Attack Type column not found in dataset.\")"
      ]
    },
    {
      "cell_type": "code",
      "execution_count": null,
      "metadata": {},
      "outputs": [],
      "source": [
        "\n",
        "\n",
        "# Filter for DDoS attacks only\n",
        "ddos_df = df[df['Attack Type'].str.lower() == \"ddos\"]\n",
        "\n",
        "if ddos_df.empty:\n",
        "    print(\"⚠️ No DDoS attacks found in the dataset.\")\n",
        "else:\n",
        "    # 1. DDoS Attack Trend Over Time\n",
        "    plt.figure(figsize=(12, 5))\n",
        "    ddos_df['Date'].value_counts().sort_index().plot(kind='line', marker='o', color='blue')\n",
        "    plt.xlabel(\"Date\")\n",
        "    plt.ylabel(\"Number of DDoS Attacks\")\n",
        "    plt.title(\"DDoS Attacks Over Time\")\n",
        "    plt.xticks(rotation=45)\n",
        "    plt.grid()\n",
        "    plt.show()\n",
        "\n",
        "    # 2. DDoS Attacks by Hour\n",
        "    plt.figure(figsize=(10, 5))\n",
        "    ddos_df['Hour'].value_counts().sort_index().plot(kind='bar', color='red')\n",
        "    plt.xlabel(\"Hour of Day\")\n",
        "    plt.ylabel(\"Number of DDoS Attacks\")\n",
        "    plt.title(\"DDoS Attacks by Hour\")\n",
        "    plt.show()\n",
        "\n",
        "    # 3. DDoS Attack Severity Distribution (if applicable)\n",
        "    if 'Severity Category' in ddos_df.columns:\n",
        "        plt.figure(figsize=(8, 4))\n",
        "        ddos_df['Severity Category'].value_counts().plot(kind='pie', autopct='%1.1f%%', colors=['red', 'orange', 'yellow'])\n",
        "        plt.title(\"DDoS Attack Severity Distribution\")\n",
        "        plt.ylabel(\"\")\n",
        "        plt.show()\n",
        "\n",
        "    # 4. Heatmap of DDoS Attacks by Hour\n",
        "    plt.figure(figsize=(10, 5))\n",
        "    hourly_attacks = ddos_df.groupby('Hour').size()\n",
        "    sns.heatmap(hourly_attacks.values.reshape(1, -1), cmap=\"Reds\", annot=True, fmt=\"d\", linewidths=0.5)\n",
        "    plt.xlabel(\"Hour of Day\")\n",
        "    plt.title(\"Heatmap of DDoS Attacks by Hour\")\n",
        "    plt.show()\n",
        "\n",
        "    print(\"DDoS Attack Analysis Completed!\")"
      ]
    },
    {
      "cell_type": "code",
      "execution_count": null,
      "metadata": {},
      "outputs": [],
      "source": []
    },
    {
      "cell_type": "markdown",
      "metadata": {},
      "source": [
        "---"
      ]
    },
    {
      "cell_type": "markdown",
      "metadata": {},
      "source": [
        "NOTE"
      ]
    },
    {
      "cell_type": "markdown",
      "metadata": {},
      "source": [
        "* You may add as many sections as you want, as long as it supports your project workflow.\n",
        "* All notebook's cells should be run top-down (you can't create a dynamic wherein a given point you need to go back to a previous cell to execute some task, like go back to a previous cell and refresh a variable content)"
      ]
    },
    {
      "cell_type": "markdown",
      "metadata": {},
      "source": [
        "---"
      ]
    },
    {
      "cell_type": "markdown",
      "metadata": {
        "id": "ltNetd085qHf"
      },
      "source": [
        "# Push files to Repo"
      ]
    },
    {
      "cell_type": "markdown",
      "metadata": {},
      "source": [
        "* In cases where you don't need to push files to Repo, you may replace this section with \"Conclusions and Next Steps\" and state your conclusions and next steps."
      ]
    },
    {
      "cell_type": "code",
      "execution_count": null,
      "metadata": {
        "id": "aKlnIozA4eQO",
        "outputId": "fd09bc1f-adb1-4511-f6ce-492a6af570c0"
      },
      "outputs": [],
      "source": [
        "import os\n",
        "try:\n",
        "  # create your folder here\n",
        "  # os.makedirs(name='')\n",
        "except Exception as e:\n",
        "  print(e)\n"
      ]
    }
  ],
  "metadata": {
    "accelerator": "GPU",
    "colab": {
      "name": "Data Practitioner Jupyter Notebook.ipynb",
      "provenance": [],
      "toc_visible": true
    },
    "kernelspec": {
      "display_name": ".venv",
      "language": "python",
      "name": "python3"
    },
    "language_info": {
      "codemirror_mode": {
        "name": "ipython",
        "version": 3
      },
      "file_extension": ".py",
      "mimetype": "text/x-python",
      "name": "python",
      "nbconvert_exporter": "python",
      "pygments_lexer": "ipython3",
      "version": "3.12.8"
    },
    "orig_nbformat": 2
  },
  "nbformat": 4,
  "nbformat_minor": 2
}
